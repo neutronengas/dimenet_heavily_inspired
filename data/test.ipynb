{
 "cells": [
  {
   "cell_type": "code",
   "execution_count": 1,
   "metadata": {},
   "outputs": [
    {
     "name": "stderr",
     "output_type": "stream",
     "text": [
      "2023-03-19 12:58:17.263979: I tensorflow/core/platform/cpu_feature_guard.cc:193] This TensorFlow binary is optimized with oneAPI Deep Neural Network Library (oneDNN) to use the following CPU instructions in performance-critical operations:  SSE4.1 SSE4.2\n",
      "To enable them in other operations, rebuild TensorFlow with the appropriate compiler flags.\n"
     ]
    }
   ],
   "source": [
    "import tensorflow as tf\n",
    "import numpy as np"
   ]
  },
  {
   "cell_type": "code",
   "execution_count": 20,
   "metadata": {},
   "outputs": [
    {
     "data": {
      "text/plain": [
       "['E', 'name', 'F', 'theory', 'R', 'z', 'type', 'md5']"
      ]
     },
     "execution_count": 20,
     "metadata": {},
     "output_type": "execute_result"
    }
   ],
   "source": [
    "a = \"md17_aspirin.npz\"\n",
    "q = \"qm9_eV.npz\"\n",
    "f = np.load(q, allow_pickle=True)\n",
    "list(f.keys())"
   ]
  },
  {
   "cell_type": "code",
   "execution_count": 26,
   "metadata": {},
   "outputs": [
    {
     "data": {
      "text/plain": [
       "array([[[ 2.2393    , -0.3791    ,  0.263     ],\n",
       "        [ 0.8424    ,  1.9231    , -0.4249    ],\n",
       "        [ 2.8709    ,  0.8456    ,  0.2722    ],\n",
       "        ...,\n",
       "        [-3.736     , -0.5623    , -0.012     ],\n",
       "        [-4.0763    ,  1.0637    ,  0.6273    ],\n",
       "        [-3.6988    ,  0.8471    , -1.0986    ]],\n",
       "\n",
       "       [[ 2.2407929 , -0.3792177 ,  0.26220864],\n",
       "        [ 0.84189833,  1.92928051, -0.42386094],\n",
       "        [ 2.87186381,  0.84557865,  0.27150796],\n",
       "        ...,\n",
       "        [-3.74977798, -0.56203982, -0.01575305],\n",
       "        [-4.07244665,  1.09156644,  0.60937952],\n",
       "        [-3.69170686,  0.85806722, -1.09188342]],\n",
       "\n",
       "       [[ 2.24227707, -0.37935822,  0.26140399],\n",
       "        [ 0.84137205,  1.9353399 , -0.42284114],\n",
       "        [ 2.87295184,  0.84559048,  0.27086148],\n",
       "        ...,\n",
       "        [-3.76348366, -0.56217649, -0.01954804],\n",
       "        [-4.06835602,  1.11919497,  0.59195825],\n",
       "        [-3.68524589,  0.86877234, -1.08640859]],\n",
       "\n",
       "       ...,\n",
       "\n",
       "       [[ 1.78470044, -1.35422884, -0.51343501],\n",
       "        [ 0.72390163,  0.87248099, -1.81085559],\n",
       "        [ 2.57884368, -0.67527954, -1.37036277],\n",
       "        ...,\n",
       "        [-2.62018307,  2.76635267,  1.85875029],\n",
       "        [-2.85443804,  2.90777475,  0.12182833],\n",
       "        [-3.32874081,  1.40868363,  1.12263877]],\n",
       "\n",
       "       [[ 1.78059697, -1.3578303 , -0.50877205],\n",
       "        [ 0.72355566,  0.87479512, -1.80986871],\n",
       "        [ 2.57784207, -0.67869216, -1.3714425 ],\n",
       "        ...,\n",
       "        [-2.61553303,  2.75697931,  1.85882979],\n",
       "        [-2.85301217,  2.90896192,  0.11065878],\n",
       "        [-3.31730635,  1.4057146 ,  1.12923255]],\n",
       "\n",
       "       [[ 1.77613491, -1.36133771, -0.50384319],\n",
       "        [ 0.72337875,  0.87736609, -1.8091205 ],\n",
       "        [ 2.57654317, -0.68187862, -1.37303491],\n",
       "        ...,\n",
       "        [-2.60959433,  2.75093987,  1.86475988],\n",
       "        [-2.8509287 ,  2.90580453,  0.10354258],\n",
       "        [-3.3069877 ,  1.40047035,  1.13520955]]])"
      ]
     },
     "execution_count": 26,
     "metadata": {},
     "output_type": "execute_result"
    }
   ],
   "source": [
    "R = f[\"R\"]\n",
    "Z = f[\"z\"]\n",
    "f[\"R\"]"
   ]
  },
  {
   "cell_type": "code",
   "execution_count": null,
   "metadata": {},
   "outputs": [],
   "source": []
  }
 ],
 "metadata": {
  "kernelspec": {
   "display_name": "ml_env",
   "language": "python",
   "name": "python3"
  },
  "language_info": {
   "codemirror_mode": {
    "name": "ipython",
    "version": 3
   },
   "file_extension": ".py",
   "mimetype": "text/x-python",
   "name": "python",
   "nbconvert_exporter": "python",
   "pygments_lexer": "ipython3",
   "version": "3.9.16"
  },
  "orig_nbformat": 4
 },
 "nbformat": 4,
 "nbformat_minor": 2
}
